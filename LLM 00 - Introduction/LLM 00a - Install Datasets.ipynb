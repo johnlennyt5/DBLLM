{
 "cells": [
  {
   "cell_type": "markdown",
   "metadata": {
    "application/vnd.databricks.v1+cell": {
     "cellMetadata": {},
     "inputWidgets": {},
     "nuid": "e00712d6-b264-45e1-b40a-db103bfa938c",
     "showTitle": false,
     "title": ""
    }
   },
   "source": [
    "\n",
    "<div style=\"text-align: center; line-height: 0; padding-top: 9px;\">\n",
    "  <img src=\"https://databricks.com/wp-content/uploads/2018/03/db-academy-rgb-1200px.png\" alt=\"Databricks Learning\" style=\"width: 600px\">\n",
    "</div>"
   ]
  },
  {
   "cell_type": "markdown",
   "metadata": {
    "application/vnd.databricks.v1+cell": {
     "cellMetadata": {},
     "inputWidgets": {},
     "nuid": "eebb0045-2d1d-4eae-a3ef-700724b3f6f2",
     "showTitle": false,
     "title": ""
    }
   },
   "source": [
    "# Install Datasets\n",
    "\n",
    "We need to \"install\" the datasets this course uses by copying them from their current location in the cloud to a location relative to your workspace.\n",
    "\n",
    "All that is required is to run the following cell. By default, the **`Classroom-Setup`** script will not reinstall the datasets upon <br/>subsequent invocation but this behavior can be adjusted by modifying the parameters below.\n",
    "\n",
    "Feel free to leave this notebook running and proceed with the course while the install completes in the background."
   ]
  },
  {
   "cell_type": "code",
   "execution_count": null,
   "metadata": {
    "application/vnd.databricks.v1+cell": {
     "cellMetadata": {
      "byteLimit": 2048000,
      "rowLimit": 10000
     },
     "inputWidgets": {},
     "nuid": "5351cdca-5d3c-4b69-802c-6fa77f34efe9",
     "showTitle": false,
     "title": ""
    }
   },
   "outputs": [
    {
     "name": "stdout",
     "output_type": "stream",
     "text": [
      "\u001b[43mNote: you may need to restart the kernel using dbutils.library.restartPython() to use updated packages.\u001b[0m\n",
      "\u001b[43mNote: you may need to restart the kernel using dbutils.library.restartPython() to use updated packages.\u001b[0m\n"
     ]
    },
    {
     "name": "stdout",
     "output_type": "stream",
     "text": [
      "Resetting the learning environment:\n",
      "| Enumerating serving endpoints...found 0...(0 seconds)\n",
      "| No action taken\n",
      "\n",
      "Skipping download of existing archive to \"dbfs:/mnt/dbacademy-datasets/large-language-models/v03\" \n",
      "| Validating local assets:\n",
      "| | Listing local files...(0 seconds)\n",
      "| | Validation completed...(0 seconds total)\n",
      "|\n",
      "| Skipping the unpacking of datasets to \"dbfs:/mnt/dbacademy-users/johnlennyt@gmail.com/large-language-models/datasets\" \n",
      "|\n",
      "| Dataset installation completed (0 seconds)\n",
      "\n"
     ]
    },
    {
     "name": "stdout",
     "output_type": "stream",
     "text": [
      "Importing lab testing framework.\n"
     ]
    },
    {
     "name": "stdout",
     "output_type": "stream",
     "text": [
      "\n",
      "Using the \"default\" schema.\n",
      "\n",
      "Predefined paths variables:\n",
      "| DA.paths.working_dir: /dbfs/mnt/dbacademy-users/johnlennyt@gmail.com/large-language-models/working\n",
      "| DA.paths.user_db:     /dbfs/mnt/dbacademy-users/johnlennyt@gmail.com/large-language-models/working/database.db\n",
      "| DA.paths.datasets:    /dbfs/mnt/dbacademy-users/johnlennyt@gmail.com/large-language-models/datasets\n",
      "\n",
      "Setup completed (4 seconds)\n",
      "\n",
      "The models developed or used in this course are for demonstration and learning purposes only.\n",
      "Models may occasionally output offensive, inaccurate, biased information, or harmful instructions.\n"
     ]
    }
   ],
   "source": [
    "%run ../Includes/Classroom-Setup"
   ]
  },
  {
   "cell_type": "markdown",
   "metadata": {
    "application/vnd.databricks.v1+cell": {
     "cellMetadata": {},
     "inputWidgets": {},
     "nuid": "1ef12592-5a65-4438-a7a5-364a6e075f25",
     "showTitle": false,
     "title": ""
    }
   },
   "source": [
    "&copy; 2023 Databricks, Inc. All rights reserved.<br/>\n",
    "Apache, Apache Spark, Spark and the Spark logo are trademarks of the <a href=\"https://www.apache.org/\">Apache Software Foundation</a>.<br/>\n",
    "<br/>\n",
    "<a href=\"https://databricks.com/privacy-policy\">Privacy Policy</a> | <a href=\"https://databricks.com/terms-of-use\">Terms of Use</a> | <a href=\"https://help.databricks.com/\">Support</a>"
   ]
  }
 ],
 "metadata": {
  "application/vnd.databricks.v1+notebook": {
   "dashboards": [],
   "language": "python",
   "notebookMetadata": {
    "pythonIndentUnit": 2
   },
   "notebookName": "LLM 00a - Install Datasets",
   "widgets": {}
  },
  "kernelspec": {
   "display_name": "Python 3",
   "language": "python",
   "name": "python3"
  },
  "language_info": {
   "name": "python",
   "version": "3.11.6"
  }
 },
 "nbformat": 4,
 "nbformat_minor": 0
}
