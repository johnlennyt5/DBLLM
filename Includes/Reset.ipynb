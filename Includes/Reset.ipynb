{
 "cells": [
  {
   "cell_type": "code",
   "execution_count": 0,
   "metadata": {
    "application/vnd.databricks.v1+cell": {
     "cellMetadata": {
      "byteLimit": 2048000,
      "rowLimit": 10000
     },
     "inputWidgets": {},
     "nuid": "1dc9692a-7544-4a41-84d5-9568191fe5d3",
     "showTitle": false,
     "title": ""
    }
   },
   "outputs": [
    {
     "output_type": "stream",
     "name": "stdout",
     "output_type": "stream",
     "text": [
      "\u001B[43mNote: you may need to restart the kernel using dbutils.library.restartPython() to use updated packages.\u001B[0m\n\u001B[43mNote: you may need to restart the kernel using dbutils.library.restartPython() to use updated packages.\u001B[0m\n"
     ]
    }
   ],
   "source": [
    "%run ./_common"
   ]
  },
  {
   "cell_type": "code",
   "execution_count": 0,
   "metadata": {
    "application/vnd.databricks.v1+cell": {
     "cellMetadata": {
      "byteLimit": 2048000,
      "rowLimit": 10000
     },
     "inputWidgets": {},
     "nuid": "140e63c6-87be-44fa-93ec-0094056020b8",
     "showTitle": false,
     "title": ""
    }
   },
   "outputs": [
    {
     "output_type": "stream",
     "name": "stdout",
     "output_type": "stream",
     "text": [
      "Resetting the learning environment for all lessons:\n| Enumerating serving endpoints...found 0...(0 seconds)\n| Deleting datasets \"dbfs:/mnt/dbacademy-users/johnlennyt@gmail.com/large-language-models/datasets\".\n| Deleting archives \"dbfs:/mnt/dbacademy-datasets/large-language-models/v03\".\n| Deleting working directory root \"dbfs:/mnt/dbacademy-users/johnlennyt@gmail.com/large-language-models\".\n| Dropping the instance pool \"DBAcademy\".\n| Dropping the cluster policy \"DBAcademy\".\n| Dropping the cluster policy \"DBAcademy Jobs\".\n| Dropping the cluster policy \"DBAcademy DLT\".\n| The learning environment was successfully reset (5 seconds).\n"
     ]
    }
   ],
   "source": [
    "DA = DBAcademyHelper(course_config, lesson_config)  # Create the DA object\n",
    "DA.reset_learning_environment()                     # Once initialized, reset the entire learning environment\n"
   ]
  }
 ],
 "metadata": {
  "application/vnd.databricks.v1+notebook": {
   "dashboards": [],
   "language": "python",
   "notebookMetadata": {
    "pythonIndentUnit": 2
   },
   "notebookName": "Reset",
   "widgets": {}
  }
 },
 "nbformat": 4,
 "nbformat_minor": 0
}
