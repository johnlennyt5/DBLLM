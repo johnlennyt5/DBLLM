{
 "cells": [
  {
   "cell_type": "markdown",
   "metadata": {
    "application/vnd.databricks.v1+cell": {
     "cellMetadata": {},
     "inputWidgets": {},
     "nuid": "7072d902-0a4c-4e45-9ca0-4153d35c7207",
     "showTitle": false,
     "title": ""
    }
   },
   "source": [
    "# Run the Universal-Workspace-Setup Job\n",
    "This will dispatch to the UWS to provide a standard configuration for all labs.\n",
    "\n",
    "<span style=\"font-weight:bold; color:red\">WARNING</span>: Running this notebook is <b>no longer required</b> and may actually break your learning environment if executed. This is included here only for testing purposes."
   ]
  },
  {
   "cell_type": "code",
   "execution_count": 0,
   "metadata": {
    "application/vnd.databricks.v1+cell": {
     "cellMetadata": {},
     "inputWidgets": {},
     "nuid": "a4c32205-2afe-489a-b82c-93eecb5b8ab6",
     "showTitle": false,
     "title": ""
    }
   },
   "outputs": [],
   "source": [
    "%run ./_common"
   ]
  },
  {
   "cell_type": "code",
   "execution_count": 0,
   "metadata": {
    "application/vnd.databricks.v1+cell": {
     "cellMetadata": {},
     "inputWidgets": {},
     "nuid": "5c9e2a88-88f6-4223-9a0b-aec061b447a2",
     "showTitle": false,
     "title": ""
    }
   },
   "outputs": [],
   "source": [
    "from dbacademy.dbhelper.universal_worskpace_setup_runner import UniversalWorkspaceSetupRunner\n",
    "\n",
    "runner = UniversalWorkspaceSetupRunner(\n",
    "    token=dbutils.notebook.entry_point.getDbutils().notebook().getContext().apiToken().getOrElse(None),\n",
    "    endpoint=dbutils.notebook.entry_point.getDbutils().notebook().getContext().apiUrl().getOrElse(None),\n",
    "    course_config=course_config,\n",
    "    workspace_name=sc.getConf().get(\"spark.databricks.workspaceUrl\", defaultValue=\"Unknown\")\n",
    ")\n",
    "\n",
    "runner.run()"
   ]
  },
  {
   "cell_type": "markdown",
   "metadata": {
    "application/vnd.databricks.v1+cell": {
     "cellMetadata": {},
     "inputWidgets": {},
     "nuid": "c30f934f-1ccc-4d6b-b2f6-fe3633d35451",
     "showTitle": false,
     "title": ""
    }
   },
   "source": [
    "# Install Datasets\n",
    "The current version of the UWS won't install user-specific datasets yest so this is a hack to force it to install before moving to round #2 tests that will install the user-specific datasets, but fail the tests due to their asyncrounus nature."
   ]
  },
  {
   "cell_type": "code",
   "execution_count": 0,
   "metadata": {
    "application/vnd.databricks.v1+cell": {
     "cellMetadata": {},
     "inputWidgets": {},
     "nuid": "2504b5e5-eba7-4761-a60d-096b1dc71567",
     "showTitle": false,
     "title": ""
    }
   },
   "outputs": [],
   "source": [
    "DA = DBAcademyHelper(course_config, lesson_config)  # Create the DA object\n",
    "DA.reset_lesson()                                   # Reset the lesson to a clean state\n",
    "DA.init()                                           # Performs basic intialization including creating schemas and catalogs\n",
    "DA.conclude_setup()                                 # Finalizes the state and prints the config for the student\n"
   ]
  }
 ],
 "metadata": {
  "application/vnd.databricks.v1+notebook": {
   "dashboards": [],
   "language": "python",
   "notebookMetadata": {
    "pythonIndentUnit": 2
   },
   "notebookName": "Workspace-Setup",
   "widgets": {}
  }
 },
 "nbformat": 4,
 "nbformat_minor": 0
}
