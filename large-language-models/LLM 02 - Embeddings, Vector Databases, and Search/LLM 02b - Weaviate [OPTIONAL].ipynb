{
 "cells": [
  {
   "cell_type": "markdown",
   "metadata": {
    "application/vnd.databricks.v1+cell": {
     "cellMetadata": {},
     "inputWidgets": {},
     "nuid": "257d8a55-cf82-4bf6-9add-51b525b1198a",
     "showTitle": false,
     "title": ""
    }
   },
   "source": [
    "\n",
    "<div style=\"text-align: center; line-height: 0; padding-top: 9px;\">\n",
    "  <img src=\"https://databricks.com/wp-content/uploads/2018/03/db-academy-rgb-1200px.png\" alt=\"Databricks Learning\" style=\"width: 600px\">\n",
    "</div>"
   ]
  },
  {
   "cell_type": "markdown",
   "metadata": {
    "application/vnd.databricks.v1+cell": {
     "cellMetadata": {},
     "inputWidgets": {},
     "nuid": "2a4ad07e-d307-4777-a119-ba484c8efed5",
     "showTitle": false,
     "title": ""
    }
   },
   "source": [
    "# Weaviate\n",
    "\n",
    "In this notebook, we will use Weaviate as our vector database. We will then write the embedding vectors out to Weaviate and query for similar documents. Weaviate provides customization options, such as to incorporate Product Quantization or not (refer [here](https://weaviate.io/developers/weaviate/concepts/vector-index#hnsw-with-product-quantizationpq)). \n",
    "\n",
    "[Zilliz](https://zilliz.com/) has an enterprise offering for Weaviate."
   ]
  },
  {
   "cell_type": "markdown",
   "metadata": {
    "application/vnd.databricks.v1+cell": {
     "cellMetadata": {},
     "inputWidgets": {},
     "nuid": "9e046cdc-3dff-46d4-ab54-283e3676d89e",
     "showTitle": false,
     "title": ""
    }
   },
   "source": [
    "## Library pre-requisites\n",
    "\n",
    "- weaviate-client\n",
    "  - pip install below\n",
    "- Spark connector jar file\n",
    "  - **IMPORTANT!!** Since we will be interacting with Spark by writing a Spark dataframe out to Weaviate, we need a Spark Connector.\n",
    "  - [Download the Spark connector jar file](https://github.com/weaviate/spark-connector#download-jar-from-github) and [upload to your Databricks cluster](https://github.com/weaviate/spark-connector#using-the-jar-in-databricks).\n",
    "\n"
   ]
  },
  {
   "cell_type": "code",
   "execution_count": 0,
   "metadata": {
    "application/vnd.databricks.v1+cell": {
     "cellMetadata": {
      "byteLimit": 2048000,
      "rowLimit": 10000
     },
     "inputWidgets": {},
     "nuid": "57cc5d5d-aa9b-4d71-b14e-b69f0ee28460",
     "showTitle": false,
     "title": ""
    }
   },
   "outputs": [
    {
     "output_type": "stream",
     "name": "stdout",
     "output_type": "stream",
     "text": [
      "\u001B[43mNote: you may need to restart the kernel using dbutils.library.restartPython() to use updated packages.\u001B[0m\nCollecting weaviate-client==3.19.1\n  Downloading weaviate_client-3.19.1-py3-none-any.whl (99 kB)\n     ━━━━━━━━━━━━━━━━━━━━━━━━━━━━━━━━━━━━━━━━ 99.6/99.6 kB 1.6 MB/s eta 0:00:00\nRequirement already satisfied: requests<2.29.0,>=2.28.0 in /databricks/python3/lib/python3.10/site-packages (from weaviate-client==3.19.1) (2.28.1)\nCollecting authlib>=1.1.0\n  Downloading Authlib-1.2.1-py2.py3-none-any.whl (215 kB)\n     ━━━━━━━━━━━━━━━━━━━━━━━━━━━━━━━━━━━━━━ 215.3/215.3 kB 11.1 MB/s eta 0:00:00\nRequirement already satisfied: tqdm<5.0.0,>=4.59.0 in /databricks/python3/lib/python3.10/site-packages (from weaviate-client==3.19.1) (4.64.1)\nCollecting validators<=0.21.0,>=0.18.2\n  Downloading validators-0.21.0-py3-none-any.whl (27 kB)\nRequirement already satisfied: cryptography>=3.2 in /databricks/python3/lib/python3.10/site-packages (from authlib>=1.1.0->weaviate-client==3.19.1) (37.0.1)\nRequirement already satisfied: urllib3<1.27,>=1.21.1 in /databricks/python3/lib/python3.10/site-packages (from requests<2.29.0,>=2.28.0->weaviate-client==3.19.1) (1.26.11)\nRequirement already satisfied: idna<4,>=2.5 in /databricks/python3/lib/python3.10/site-packages (from requests<2.29.0,>=2.28.0->weaviate-client==3.19.1) (3.3)\nRequirement already satisfied: certifi>=2017.4.17 in /databricks/python3/lib/python3.10/site-packages (from requests<2.29.0,>=2.28.0->weaviate-client==3.19.1) (2022.9.14)\nRequirement already satisfied: charset-normalizer<3,>=2 in /databricks/python3/lib/python3.10/site-packages (from requests<2.29.0,>=2.28.0->weaviate-client==3.19.1) (2.0.4)\nRequirement already satisfied: cffi>=1.12 in /databricks/python3/lib/python3.10/site-packages (from cryptography>=3.2->authlib>=1.1.0->weaviate-client==3.19.1) (1.15.1)\nRequirement already satisfied: pycparser in /databricks/python3/lib/python3.10/site-packages (from cffi>=1.12->cryptography>=3.2->authlib>=1.1.0->weaviate-client==3.19.1) (2.21)\nInstalling collected packages: validators, authlib, weaviate-client\nSuccessfully installed authlib-1.2.1 validators-0.21.0 weaviate-client-3.19.1\n\u001B[43mNote: you may need to restart the kernel using dbutils.library.restartPython() to use updated packages.\u001B[0m\n"
     ]
    }
   ],
   "source": [
    "%pip install weaviate-client==3.19.1"
   ]
  },
  {
   "cell_type": "markdown",
   "metadata": {
    "application/vnd.databricks.v1+cell": {
     "cellMetadata": {},
     "inputWidgets": {},
     "nuid": "d85f25b1-5556-4770-9890-f5d9902a02af",
     "showTitle": false,
     "title": ""
    }
   },
   "source": [
    "## Classroom Setup"
   ]
  },
  {
   "cell_type": "code",
   "execution_count": 0,
   "metadata": {
    "application/vnd.databricks.v1+cell": {
     "cellMetadata": {
      "byteLimit": 2048000,
      "rowLimit": 10000
     },
     "inputWidgets": {},
     "nuid": "5f57f8a3-3918-42e8-bec0-41ea49fd38f8",
     "showTitle": false,
     "title": ""
    }
   },
   "outputs": [
    {
     "output_type": "stream",
     "name": "stdout",
     "output_type": "stream",
     "text": [
      "\u001B[43mNote: you may need to restart the kernel using dbutils.library.restartPython() to use updated packages.\u001B[0m\n\u001B[43mNote: you may need to restart the kernel using dbutils.library.restartPython() to use updated packages.\u001B[0m\n"
     ]
    },
    {
     "output_type": "stream",
     "name": "stdout",
     "output_type": "stream",
     "text": [
      "Resetting the learning environment:\n| Enumerating serving endpoints...found 0...(1 seconds)\n| No action taken\n\nSkipping download of existing archive to \"dbfs:/mnt/dbacademy-datasets/large-language-models/v03\" \n| Validating local assets:\n| | Listing local files...(0 seconds)\n| | Validation completed...(0 seconds total)\n|\n| Skipping the unpacking of datasets to \"dbfs:/mnt/dbacademy-users/johnlennyt@gmail.com/large-language-models/datasets\" \n|\n| Dataset installation completed (0 seconds)\n\n"
     ]
    },
    {
     "output_type": "stream",
     "name": "stdout",
     "output_type": "stream",
     "text": [
      "Importing lab testing framework.\n"
     ]
    },
    {
     "output_type": "stream",
     "name": "stdout",
     "output_type": "stream",
     "text": [
      "\nUsing the \"default\" schema.\n\nPredefined paths variables:\n| DA.paths.working_dir: /dbfs/mnt/dbacademy-users/johnlennyt@gmail.com/large-language-models/working\n| DA.paths.user_db:     /dbfs/mnt/dbacademy-users/johnlennyt@gmail.com/large-language-models/working/database.db\n| DA.paths.datasets:    /dbfs/mnt/dbacademy-users/johnlennyt@gmail.com/large-language-models/datasets\n\nSetup completed (5 seconds)\n\nThe models developed or used in this course are for demonstration and learning purposes only.\nModels may occasionally output offensive, inaccurate, biased information, or harmful instructions.\n"
     ]
    }
   ],
   "source": [
    "%run ../Includes/Classroom-Setup"
   ]
  },
  {
   "cell_type": "markdown",
   "metadata": {
    "application/vnd.databricks.v1+cell": {
     "cellMetadata": {},
     "inputWidgets": {},
     "nuid": "3d877338-ac2f-477b-9865-2d2d5c638ba4",
     "showTitle": false,
     "title": ""
    }
   },
   "source": [
    "## Weaviate\n",
    "\n",
    "[Weaviate](https://weaviate.io/) is an open-source persistent and fault-tolerant [vector database](https://weaviate.io/developers/weaviate/concepts/storage). It integrates with a variety of tools, including OpenAI and Hugging Face Transformers. You can refer to their [documentation here](https://weaviate.io/developers/weaviate/quickstart).\n",
    "\n",
    "### Setting up your Weaviate Network\n",
    "\n",
    "Before we could proceed, you need your own Weaviate Network. To start your own network, visit the [homepage](https://weaviate.io/). \n",
    "\n",
    "Step 1: Click on `Start Free` \n",
    "\n",
    "<img src=\"https://files.training.databricks.com/images/weaviate_homepage.png\" width=500>\n",
    "\n",
    "Step 2: You will be brought to this [Console page](https://console.weaviate.cloud/). If this is your first time using Weaviate, click `Register here` and pass in your credentials.\n",
    "\n",
    "<img src=\"https://files.training.databricks.com/images/weaviate_register.png\" width=500>\n",
    "\n",
    "Step 3: Click on `Create cluster` and select `Free sandbox`. Provide your cluster name. For simplicity, we will toggle `enable authentication` to be `No`. Then, hit `Create`. \n",
    "\n",
    "<img src=\"https://files.training.databricks.com/images/weaviate_create_cluster.png\" width=900>\n",
    "\n",
    "Step 4: Click on `Details` and copy the `Cluster URL` and paste in the cell below."
   ]
  },
  {
   "cell_type": "markdown",
   "metadata": {
    "application/vnd.databricks.v1+cell": {
     "cellMetadata": {},
     "inputWidgets": {},
     "nuid": "808673c1-dc92-47b6-ae9a-cf6259825c87",
     "showTitle": false,
     "title": ""
    }
   },
   "source": [
    "We will use embeddings from OpenAI,  so we will need a token from OpenAI API\n",
    "\n",
    "Steps:\n",
    "1. You need to [create an account](https://platform.openai.com/signup) on OpenAI. \n",
    "2. Generate an OpenAI [API key here](https://platform.openai.com/account/api-keys). \n",
    "\n",
    "Note: OpenAI does not have a free option, but it gives you $5 as credit. Once you have exhausted your $5 credit, you will need to add your payment method. You will be [charged per token usage](https://openai.com/pricing). **IMPORTANT**: It's crucial that you keep your OpenAI API key to yourself. If others have access to your OpenAI key, they will be able to charge their usage to your account! "
   ]
  },
  {
   "cell_type": "code",
   "execution_count": 0,
   "metadata": {
    "application/vnd.databricks.v1+cell": {
     "cellMetadata": {},
     "inputWidgets": {},
     "nuid": "a7b59c3b-e4ac-4e90-aa51-ab04c2981472",
     "showTitle": false,
     "title": ""
    }
   },
   "outputs": [],
   "source": [
    "# TODO\n",
    "import os\n",
    "\n",
    "os.environ[\"OPENAI_API_KEY\"] = \"<FILL IN>\"\n",
    "os.environ[\"WEAVIATE_NETWORK\"] = \"<FILL IN>\""
   ]
  },
  {
   "cell_type": "code",
   "execution_count": 0,
   "metadata": {
    "application/vnd.databricks.v1+cell": {
     "cellMetadata": {},
     "inputWidgets": {},
     "nuid": "f62aadaf-4548-414e-b8f4-9b57c9b56c51",
     "showTitle": false,
     "title": ""
    }
   },
   "outputs": [],
   "source": [
    "import openai\n",
    "\n",
    "openai.api_key = os.environ[\"OPENAI_API_KEY\"]\n",
    "weaviate_network = os.environ[\"WEAVIATE_NETWORK\"]"
   ]
  },
  {
   "cell_type": "code",
   "execution_count": 0,
   "metadata": {
    "application/vnd.databricks.v1+cell": {
     "cellMetadata": {},
     "inputWidgets": {},
     "nuid": "1c16c77c-9fc0-488e-acd0-c36f093cf8b3",
     "showTitle": false,
     "title": ""
    }
   },
   "outputs": [],
   "source": [
    "import weaviate\n",
    "\n",
    "client = weaviate.Client(\n",
    "    weaviate_network, additional_headers={\"X-OpenAI-Api-Key\": openai.api_key}\n",
    ")\n",
    "client.is_ready()"
   ]
  },
  {
   "cell_type": "markdown",
   "metadata": {
    "application/vnd.databricks.v1+cell": {
     "cellMetadata": {},
     "inputWidgets": {},
     "nuid": "3002f4bd-c644-436f-b044-0aea941c8691",
     "showTitle": false,
     "title": ""
    }
   },
   "source": [
    "### Dataset\n",
    "\n",
    "\n",
    "In this section, we are going to use the data on <a href=\"https://newscatcherapi.com/\" target=\"_blank\">news topics collected by the NewsCatcher team</a>, who collects and indexes news articles and release them to the open-source community. The dataset can be downloaded from <a href=\"https://www.kaggle.com/kotartemiy/topic-labeled-news-dataset\" target=\"_blank\">Kaggle</a>."
   ]
  },
  {
   "cell_type": "code",
   "execution_count": 0,
   "metadata": {
    "application/vnd.databricks.v1+cell": {
     "cellMetadata": {},
     "inputWidgets": {},
     "nuid": "edfd8d54-8001-42fa-aca2-507746a4b223",
     "showTitle": false,
     "title": ""
    }
   },
   "outputs": [],
   "source": [
    "df = (\n",
    "    spark.read.option(\"header\", True)\n",
    "    .option(\"sep\", \";\")\n",
    "    .format(\"csv\")\n",
    "    .load(\n",
    "        f\"{DA.paths.datasets}/news/labelled_newscatcher_dataset.csv\".replace(\n",
    "            \"/dbfs\", \"dbfs:\"\n",
    "        )\n",
    "    )\n",
    ")\n",
    "display(df)"
   ]
  },
  {
   "cell_type": "markdown",
   "metadata": {
    "application/vnd.databricks.v1+cell": {
     "cellMetadata": {},
     "inputWidgets": {},
     "nuid": "31eb13d6-fd7b-4283-b87f-7d663edecd31",
     "showTitle": false,
     "title": ""
    }
   },
   "source": [
    "We are going to store this dataset in the Weaviate database. To do that, we first need to define a schema. A schema is where we define classes, class properties, data types, and vectorizer modules we would like to use. \n",
    "\n",
    "In the schema below, notice that:\n",
    "\n",
    "- We capitalize the first letter of `class_name`. This is Weaviate's rule. \n",
    "- We specify data types within `properties`\n",
    "- We use `text2vec-openai` as the vectorizer. \n",
    "  - You can also choose to upload your own vectors (refer to [docs here](https://weaviate.io/developers/weaviate/api/rest/objects#with-a-custom-vector)) or create a class without any vectors (but we won't be able to perform similarity search after).\n",
    "\n",
    "[Reference documentation here](https://weaviate.io/developers/weaviate/tutorials/schema)"
   ]
  },
  {
   "cell_type": "code",
   "execution_count": 0,
   "metadata": {
    "application/vnd.databricks.v1+cell": {
     "cellMetadata": {},
     "inputWidgets": {},
     "nuid": "22d636e2-1ca5-4f90-8a5b-d50a5fb7cfc5",
     "showTitle": false,
     "title": ""
    }
   },
   "outputs": [],
   "source": [
    "class_name = \"News\"\n",
    "class_obj = {\n",
    "    \"class\": class_name,\n",
    "    \"description\": \"News topics collected by NewsCatcher\",\n",
    "    \"properties\": [\n",
    "        {\"name\": \"topic\", \"dataType\": [\"string\"]},\n",
    "        {\"name\": \"link\", \"dataType\": [\"string\"]},\n",
    "        {\"name\": \"domain\", \"dataType\": [\"string\"]},\n",
    "        {\"name\": \"published_date\", \"dataType\": [\"string\"]},\n",
    "        {\"name\": \"title\", \"dataType\": [\"string\"]},\n",
    "        {\"name\": \"lang\", \"dataType\": [\"string\"]},\n",
    "    ],\n",
    "    \"vectorizer\": \"text2vec-openai\",\n",
    "}"
   ]
  },
  {
   "cell_type": "code",
   "execution_count": 0,
   "metadata": {
    "application/vnd.databricks.v1+cell": {
     "cellMetadata": {},
     "inputWidgets": {},
     "nuid": "b2b42e8a-aaa6-4fbc-85a0-31d84b7d6d92",
     "showTitle": false,
     "title": ""
    }
   },
   "outputs": [],
   "source": [
    "# If the class exists before, we will delete it first\n",
    "if client.schema.exists(class_name):\n",
    "    print(\"Deleting existing class...\")\n",
    "    client.schema.delete_class(class_name)\n",
    "\n",
    "print(f\"Creating class: '{class_name}'\")\n",
    "client.schema.create_class(class_obj)"
   ]
  },
  {
   "cell_type": "markdown",
   "metadata": {
    "application/vnd.databricks.v1+cell": {
     "cellMetadata": {},
     "inputWidgets": {},
     "nuid": "a6100877-0958-41d6-b3ec-50c0fde0f5cc",
     "showTitle": false,
     "title": ""
    }
   },
   "source": [
    "If you are curious what the schema looks like for your class, run the following command."
   ]
  },
  {
   "cell_type": "code",
   "execution_count": 0,
   "metadata": {
    "application/vnd.databricks.v1+cell": {
     "cellMetadata": {},
     "inputWidgets": {},
     "nuid": "09084d0f-13f4-41c7-9262-005e4d8a8ed2",
     "showTitle": false,
     "title": ""
    }
   },
   "outputs": [],
   "source": [
    "import json\n",
    "\n",
    "print(json.dumps(client.schema.get(class_name), indent=4))"
   ]
  },
  {
   "cell_type": "markdown",
   "metadata": {
    "application/vnd.databricks.v1+cell": {
     "cellMetadata": {},
     "inputWidgets": {},
     "nuid": "387b6189-6a22-4c72-a655-a5de6ce61d7c",
     "showTitle": false,
     "title": ""
    }
   },
   "source": [
    "Now that the class is created, we are going to write our dataframe to the class. \n",
    "\n",
    "**IMPORTANT!!** Since we are writing a Spark DataFrame out, we need a Spark Connector to Weaviate. You need to [download the Spark connector jar file](https://github.com/weaviate/spark-connector#download-jar-from-github) and [upload to your Databricks cluster](https://github.com/weaviate/spark-connector#using-the-jar-in-databricks) before running the next cell. If you do not do this, the next cell *will fail*."
   ]
  },
  {
   "cell_type": "code",
   "execution_count": 0,
   "metadata": {
    "application/vnd.databricks.v1+cell": {
     "cellMetadata": {},
     "inputWidgets": {},
     "nuid": "63da2521-eddc-4a26-bf20-d3f84932a68d",
     "showTitle": false,
     "title": ""
    }
   },
   "outputs": [],
   "source": [
    "(\n",
    "    df.limit(100)\n",
    "    .write.format(\"io.weaviate.spark.Weaviate\")\n",
    "    .option(\"scheme\", \"http\")\n",
    "    .option(\"host\", weaviate_network.split(\"https://\")[1])\n",
    "    .option(\"header:X-OpenAI-Api-Key\", openai.api_key)\n",
    "    .option(\"className\", class_name)\n",
    "    .mode(\"append\")\n",
    "    .save()\n",
    ")"
   ]
  },
  {
   "cell_type": "markdown",
   "metadata": {
    "application/vnd.databricks.v1+cell": {
     "cellMetadata": {},
     "inputWidgets": {},
     "nuid": "ea0fc991-7899-4b7e-b17d-9de6914a09eb",
     "showTitle": false,
     "title": ""
    }
   },
   "source": [
    "Let's check if the data is indeed populated. You can run either the following command or go to \n",
    "`https://{insert_your_cluster_url_here}/v1/objects` \n",
    "\n",
    "You should be able to see the data records, rather than null objects."
   ]
  },
  {
   "cell_type": "code",
   "execution_count": 0,
   "metadata": {
    "application/vnd.databricks.v1+cell": {
     "cellMetadata": {},
     "inputWidgets": {},
     "nuid": "893f0753-2157-4c66-a129-86c796c35070",
     "showTitle": false,
     "title": ""
    }
   },
   "outputs": [],
   "source": [
    "client.query.get(\"News\", [\"topic\"]).do()"
   ]
  },
  {
   "cell_type": "markdown",
   "metadata": {
    "application/vnd.databricks.v1+cell": {
     "cellMetadata": {},
     "inputWidgets": {},
     "nuid": "ca2f2123-2249-47e8-814e-48589fba8922",
     "showTitle": false,
     "title": ""
    }
   },
   "source": [
    "Yay! Looks like the data is populated. We can proceed further and do a query search. We are going to search for any news titles related to `locusts`. Additionally, we are going to add a filter statement, where the topic of the news has to be `SCIENCE`. Notice that we don't have to carry out the step of converting `locusts` into embeddings ourselves because we have included a vectorizer within the class earlier on.\n",
    "\n",
    "We will use `with_near_text` to specify the text we would like to query similar titles for. By default, Weaviate uses cosine distance to determine similar objects. Refer to [distance documentation here](https://weaviate.io/developers/weaviate/config-refs/distances#available-distance-metrics)."
   ]
  },
  {
   "cell_type": "code",
   "execution_count": 0,
   "metadata": {
    "application/vnd.databricks.v1+cell": {
     "cellMetadata": {},
     "inputWidgets": {},
     "nuid": "b4acfc2a-ead3-4f94-affa-ceb0c83fad11",
     "showTitle": false,
     "title": ""
    }
   },
   "outputs": [],
   "source": [
    "where_filter = {\n",
    "    \"path\": [\"topic\"],\n",
    "    \"operator\": \"Equal\",\n",
    "    \"valueString\": \"SCIENCE\",\n",
    "}\n",
    "\n",
    "# We are going to search for any titles related to locusts\n",
    "near_text = {\"concepts\": \"locust\"}\n",
    "(\n",
    "    client.query.get(class_name, [\"topic\", \"domain\", \"title\"])\n",
    "    .with_where(where_filter)\n",
    "    .with_near_text(near_text)\n",
    "    .with_limit(2)\n",
    "    .do()\n",
    ")"
   ]
  },
  {
   "cell_type": "markdown",
   "metadata": {
    "application/vnd.databricks.v1+cell": {
     "cellMetadata": {},
     "inputWidgets": {},
     "nuid": "de94af21-b3eb-4175-83bb-ac9010d5b701",
     "showTitle": false,
     "title": ""
    }
   },
   "source": [
    "Alternatively, if you wish to supply your own embeddings at query time, you can do that too. Since embeddings are vectors, we will use `with_near_vector` instead.\n",
    "\n",
    "In the code block below, we additionally introduce a `distance` parameter. The lower the distance score is, the closer the vectors are to each other. Read more about the distance thresholds [here](https://weaviate.io/developers/weaviate/config-refs/distances#available-distance-metrics)."
   ]
  },
  {
   "cell_type": "code",
   "execution_count": 0,
   "metadata": {
    "application/vnd.databricks.v1+cell": {
     "cellMetadata": {},
     "inputWidgets": {},
     "nuid": "86f95cb3-e01f-4695-9030-264ede28e64a",
     "showTitle": false,
     "title": ""
    }
   },
   "outputs": [],
   "source": [
    "import openai\n",
    "\n",
    "model = \"text-embedding-ada-002\"\n",
    "openai_object = openai.Embedding.create(input=[\"locusts\"], model=model)\n",
    "\n",
    "openai_embedding = openai_object[\"data\"][0][\"embedding\"]\n",
    "\n",
    "(\n",
    "    client.query.get(\"News\", [\"topic\", \"domain\", \"title\"])\n",
    "    .with_where(where_filter)\n",
    "    .with_near_vector(\n",
    "        {\n",
    "            \"vector\": openai_embedding,\n",
    "            \"distance\": 0.7,  # this sets a threshold for distance metric\n",
    "        }\n",
    "    )\n",
    "    .with_limit(2)\n",
    "    .do()\n",
    ")"
   ]
  },
  {
   "cell_type": "markdown",
   "metadata": {
    "application/vnd.databricks.v1+cell": {
     "cellMetadata": {},
     "inputWidgets": {},
     "nuid": "4e5cc1df-c0fb-498d-bd6e-2615cd8a6222",
     "showTitle": false,
     "title": ""
    }
   },
   "source": [
    "&copy; 2023 Databricks, Inc. All rights reserved.<br/>\n",
    "Apache, Apache Spark, Spark and the Spark logo are trademarks of the <a href=\"https://www.apache.org/\">Apache Software Foundation</a>.<br/>\n",
    "<br/>\n",
    "<a href=\"https://databricks.com/privacy-policy\">Privacy Policy</a> | <a href=\"https://databricks.com/terms-of-use\">Terms of Use</a> | <a href=\"https://help.databricks.com/\">Support</a>"
   ]
  }
 ],
 "metadata": {
  "application/vnd.databricks.v1+notebook": {
   "dashboards": [],
   "language": "python",
   "notebookMetadata": {
    "pythonIndentUnit": 2
   },
   "notebookName": "LLM 02b - Weaviate [OPTIONAL]",
   "widgets": {}
  }
 },
 "nbformat": 4,
 "nbformat_minor": 0
}
